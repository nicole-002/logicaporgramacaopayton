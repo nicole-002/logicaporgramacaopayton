{
  "nbformat": 4,
  "nbformat_minor": 0,
  "metadata": {
    "colab": {
      "provenance": [],
      "authorship_tag": "ABX9TyPkYC6OOJi7NZjcdmxDnw7N",
      "include_colab_link": true
    },
    "kernelspec": {
      "name": "python3",
      "display_name": "Python 3"
    },
    "language_info": {
      "name": "python"
    }
  },
  "cells": [
    {
      "cell_type": "markdown",
      "metadata": {
        "id": "view-in-github",
        "colab_type": "text"
      },
      "source": [
        "<a href=\"https://colab.research.google.com/github/nicole-002/logicaporgramacaopayton/blob/main/estudo_listas_tuplas_e_dicionario.ipynb\" target=\"_parent\"><img src=\"https://colab.research.google.com/assets/colab-badge.svg\" alt=\"Open In Colab\"/></a>"
      ]
    },
    {
      "cell_type": "code",
      "execution_count": 17,
      "metadata": {
        "colab": {
          "base_uri": "https://localhost:8080/"
        },
        "id": "N3L7scn1TXjz",
        "outputId": "c3718760-985b-48a3-8164-a6bcd519cca8"
      },
      "outputs": [
        {
          "output_type": "stream",
          "name": "stdout",
          "text": [
            "180\n"
          ]
        }
      ],
      "source": [
        "listaas=[2, 90, 0.2, 2.6 ,42]\n",
        "\n",
        "soma = lista[0] * lista[1]\n",
        "\n",
        "print(soma)"
      ]
    },
    {
      "cell_type": "code",
      "source": [
        "mult = 1\n",
        "for i in lista:\n",
        "  mult = mult*i\n",
        "\n",
        "print(mult)"
      ],
      "metadata": {
        "colab": {
          "base_uri": "https://localhost:8080/"
        },
        "id": "aYyGLjf5UJwn",
        "outputId": "762e0eb8-c4cf-4f87-d126-bb6865c0b807"
      },
      "execution_count": 7,
      "outputs": [
        {
          "output_type": "stream",
          "name": "stdout",
          "text": [
            "19656.0\n"
          ]
        }
      ]
    },
    {
      "cell_type": "code",
      "source": [
        "max(lista)"
      ],
      "metadata": {
        "colab": {
          "base_uri": "https://localhost:8080/"
        },
        "id": "3EDFuYVHUnGX",
        "outputId": "435e389c-38e1-4656-a3f3-030d19855a0f"
      },
      "execution_count": 18,
      "outputs": [
        {
          "output_type": "execute_result",
          "data": {
            "text/plain": [
              "90"
            ]
          },
          "metadata": {},
          "execution_count": 18
        }
      ]
    },
    {
      "cell_type": "code",
      "source": [
        "\n",
        "# Seu código aqui...\n",
        "mult = 1\n",
        "\n",
        "lista2 = [1, 2, 3, 4, 5]\n",
        "\n",
        "for num in lista2:\n",
        "  mult = mult*num\n",
        "\n",
        "print(mult)"
      ],
      "metadata": {
        "colab": {
          "base_uri": "https://localhost:8080/"
        },
        "id": "q3GeRfWeU5Df",
        "outputId": "7b0ea878-7d7d-42c9-a1a2-17485a261071"
      },
      "execution_count": 21,
      "outputs": [
        {
          "output_type": "stream",
          "name": "stdout",
          "text": [
            "120\n"
          ]
        }
      ]
    },
    {
      "cell_type": "code",
      "source": [
        "lista5 = [1, 2, 3, 4, 3, 2, 1]\n",
        "lista5.count(2)\n"
      ],
      "metadata": {
        "colab": {
          "base_uri": "https://localhost:8080/"
        },
        "id": "HlDuXikEVTfT",
        "outputId": "ad3ed39f-8529-4337-c41f-f0c7fdaec74d"
      },
      "execution_count": 22,
      "outputs": [
        {
          "output_type": "execute_result",
          "data": {
            "text/plain": [
              "2"
            ]
          },
          "metadata": {},
          "execution_count": 22
        }
      ]
    },
    {
      "cell_type": "code",
      "source": [
        "lista5 = [1, 2, 3, 4, 3, 2, 1]\n",
        "\n",
        "for i in lista5:\n",
        "  if lista5.count(i)>1:\n",
        "    lista5.remove(i)\n",
        "\n",
        "print(lista5)"
      ],
      "metadata": {
        "colab": {
          "base_uri": "https://localhost:8080/"
        },
        "id": "E6VkKwfkVo2U",
        "outputId": "6e48093b-90be-4a0a-d9e4-77fe81bf1804"
      },
      "execution_count": 24,
      "outputs": [
        {
          "output_type": "stream",
          "name": "stdout",
          "text": [
            "[4, 3, 2, 1]\n"
          ]
        }
      ]
    },
    {
      "cell_type": "code",
      "source": [
        "lista5 = [1, 4, 3, 5, 7, 2, 9]\n",
        "\n",
        "lista5.reverse()\n",
        "lista5\n"
      ],
      "metadata": {
        "colab": {
          "base_uri": "https://localhost:8080/"
        },
        "id": "QPWsAowYWSLy",
        "outputId": "dad36766-ee0f-45a4-b923-3092de60016b"
      },
      "execution_count": 35,
      "outputs": [
        {
          "output_type": "execute_result",
          "data": {
            "text/plain": [
              "[9, 2, 7, 5, 3, 4, 1]"
            ]
          },
          "metadata": {},
          "execution_count": 35
        }
      ]
    },
    {
      "cell_type": "code",
      "source": [
        "lista6 = [6, 5, 8 , 99 , 2]\n",
        "lista7 = [1, 2 , 3, 4, 5]\n",
        "\n",
        "for i in"
      ],
      "metadata": {
        "id": "20OTem3dYtQv"
      },
      "execution_count": null,
      "outputs": []
    },
    {
      "cell_type": "code",
      "source": [
        "fim = 1\n",
        "dicionario = {}\n",
        "altmaisbai = 99999\n",
        "altmaisalta = 0\n",
        "\n",
        "\n",
        "while fim != 0:\n",
        "  nome= str(input('Digite o nome de uma pessoa'))\n",
        "  altura = int(input('Digite a altura dessa pessoa'))\n",
        "  fim = int(input(\"Digite 0 para ver o resultado ou 1 para continuar inserindo informações\"))\n",
        "\n",
        "  dicionario[nome]=altura\n",
        "\n",
        "  if altura < altmaisbai:\n",
        "    altmaisbai = altura\n",
        "    nomemenor = nome\n",
        "\n",
        "  if altura > altmaisalta:\n",
        "    altmaisalta = altura\n",
        "    nomemaior = nome\n",
        "\n",
        "print('A pessoa mais alta é',nomemaior,'com',altmaisalta, 'cm')\n",
        "print('A pessoa mais baixa é',nomemenor,'com',altmaisbai, 'cm')\n",
        "\n",
        "\n"
      ],
      "metadata": {
        "colab": {
          "base_uri": "https://localhost:8080/"
        },
        "id": "_3nwCd2vbgKG",
        "outputId": "0fa9bf60-868d-4681-d31c-914a2ba92d53"
      },
      "execution_count": 51,
      "outputs": [
        {
          "output_type": "stream",
          "name": "stdout",
          "text": [
            "Digite o nome de uma pessoathaís\n",
            "Digite a altura dessa pessoa155\n",
            "Digite 0 para ver o resultado ou 1 para continuar inserindo informações4\n",
            "Digite o nome de uma pessoaLuiza\n",
            "Digite a altura dessa pessoa172\n",
            "Digite 0 para ver o resultado ou 1 para continuar inserindo informações9\n",
            "Digite o nome de uma pessoakatia\n",
            "Digite a altura dessa pessoa162\n",
            "Digite 0 para ver o resultado ou 1 para continuar inserindo informações0\n",
            "A pessoa mais alta é Luiza com 172 cm\n",
            "A pessoa mais baixa é thaís com 155 cm\n"
          ]
        }
      ]
    },
    {
      "cell_type": "code",
      "source": [
        "lista = [5, 12, 199, 30, 7]\n",
        "\n",
        "for i in lista:\n",
        "  if i % 3 == 0:\n",
        "    print(i)"
      ],
      "metadata": {
        "id": "iPPg4tgGljPJ"
      },
      "execution_count": null,
      "outputs": []
    },
    {
      "cell_type": "code",
      "source": [
        "frase = str(input(\"Digite uma frase\"))\n",
        "\n",
        "\n",
        "if frase.count(\"python\")>0:\n",
        "  print(\"nova frase:\" + frase.replace(\"python\" , \"programação\"))"
      ],
      "metadata": {
        "colab": {
          "base_uri": "https://localhost:8080/"
        },
        "id": "YcKeDZSPmsHs",
        "outputId": "c18ef5c8-6190-4ae1-8605-bdb82888c112"
      },
      "execution_count": 76,
      "outputs": [
        {
          "output_type": "stream",
          "name": "stdout",
          "text": [
            "Digite uma frasepython blabla bla teste dd\n",
            "nova frase:programação blabla bla teste dd\n"
          ]
        }
      ]
    },
    {
      "cell_type": "code",
      "source": [
        "dicio = {\"la\":2, \"le\": 13, \"li\":8 ,\"Lu\": 4}\n",
        "\n",
        "dicio[nomela]=num\n",
        "\n",
        "max(dicio)"
      ],
      "metadata": {
        "colab": {
          "base_uri": "https://localhost:8080/",
          "height": 36
        },
        "id": "1bIwDxmPgTah",
        "outputId": "eb02299a-43e4-4bc4-b159-ace9d810c60e"
      },
      "execution_count": 49,
      "outputs": [
        {
          "output_type": "execute_result",
          "data": {
            "text/plain": [
              "'li'"
            ],
            "application/vnd.google.colaboratory.intrinsic+json": {
              "type": "string"
            }
          },
          "metadata": {},
          "execution_count": 49
        }
      ]
    },
    {
      "cell_type": "code",
      "source": [
        "fim = 1\n",
        "dicio = {}\n",
        "somatotal = 0\n",
        "\n",
        "while fim != 0:\n",
        "  item = str(input(\"Digite o nome do produto\"))\n",
        "  preco = int(input(\"Digite o preço deste produto\"))\n",
        "  fim = int(input(\"Digite 0 para ver o resultado\"))\n",
        "\n",
        "  somatotal = somatotal + preco\n",
        "\n",
        "  dicio[item]=preco\n",
        "\n",
        "  if somatotal >=500:\n",
        "    taxa = somatotal*0.6\n",
        "\n",
        "print(\"Nota:\", dicio)\n",
        "\n",
        "print(\"A soma total dos produtos foi:\",somatotal,\"dolares, se sua compra passou de 500 dolares você terá uma taxa de\", taxa)"
      ],
      "metadata": {
        "colab": {
          "base_uri": "https://localhost:8080/"
        },
        "id": "D2Iqc8RVdU9l",
        "outputId": "6282677b-0133-4222-ce17-44596c7927c3"
      },
      "execution_count": 87,
      "outputs": [
        {
          "output_type": "stream",
          "name": "stdout",
          "text": [
            "Digite o nome do produtoroupa\n",
            "Digite o preço deste produto360\n",
            "Digite 0 para ver o resultado3\n",
            "Digite o nome do produtocll\n",
            "Digite o preço deste produto400\n",
            "Digite 0 para ver o resultado3\n",
            "Digite o nome do produtoperfume\n",
            "Digite o preço deste produto40\n",
            "Digite 0 para ver o resultado0\n",
            "Nota: {'roupa': 360, 'cll': 400, 'perfume': 40}\n",
            "A soma total dos produtos foi: 800 se sua compra passou de 500 dolares você terá uma taxa de 480.0\n"
          ]
        }
      ]
    },
    {
      "cell_type": "code",
      "source": [
        "palavras_negativas = ['triste', 'deprimido', 'ansioso', 'desapontado', 'frustrado', 'machucado', 'inconformado', 'ruim', 'mal']\n",
        "\n",
        "texto = str(input(\"Escreva seus sentimentos\"))\n",
        "\n",
        "for i in palavras_negativas:\n",
        "  if texto.count(i) > 0:\n",
        "    estaMal = True\n",
        "\n",
        "if estaMal == True:\n",
        "   print('Não fique essim')\n",
        "\n",
        "else:\n",
        "  print(\"você está bem\")\n"
      ],
      "metadata": {
        "colab": {
          "base_uri": "https://localhost:8080/"
        },
        "id": "9hN8-tDmwr5f",
        "outputId": "49b8ad96-c5a7-4141-ba7e-366b8515ffdc"
      },
      "execution_count": 88,
      "outputs": [
        {
          "output_type": "stream",
          "name": "stdout",
          "text": [
            "Escreva seus sentimentoshoje tive um dia ruim, fiquei muito ansioso com o trabalho e estou inconformado\n",
            "Não fique essim\n"
          ]
        }
      ]
    },
    {
      "cell_type": "code",
      "source": [
        "def falaroi():\n",
        "  print(\"OI\")\n",
        "\n",
        "  return falaroi\n",
        "  falaroi()"
      ],
      "metadata": {
        "id": "7Q1rPgTrkOF4"
      },
      "execution_count": 3,
      "outputs": []
    },
    {
      "cell_type": "code",
      "source": [
        "def comprimentar(nome):\n",
        "  #print('olá %s'%(nome))\n",
        "  print(\"olá \" + nome)"
      ],
      "metadata": {
        "id": "-hp3xDgtk5kG"
      },
      "execution_count": 12,
      "outputs": []
    },
    {
      "cell_type": "code",
      "source": [
        "comprimentar(\"Nicole\")"
      ],
      "metadata": {
        "colab": {
          "base_uri": "https://localhost:8080/"
        },
        "id": "DUVmpsZplbsK",
        "outputId": "71c20e99-110a-47cf-b048-40ab04331f31"
      },
      "execution_count": 13,
      "outputs": [
        {
          "output_type": "stream",
          "name": "stdout",
          "text": [
            "olá Nicole\n"
          ]
        }
      ]
    },
    {
      "cell_type": "code",
      "source": [
        "def lendonum():\n",
        "  for i in range(0,17):\n",
        "    print(\"lendo o número \"+ str(i))\n"
      ],
      "metadata": {
        "id": "kz9Z2Tb-l3R_"
      },
      "execution_count": 23,
      "outputs": []
    },
    {
      "cell_type": "code",
      "source": [
        "lendonum()"
      ],
      "metadata": {
        "colab": {
          "base_uri": "https://localhost:8080/"
        },
        "id": "KnjLal34mIxt",
        "outputId": "5ad0953d-8b12-48b2-856b-d90ad533a51d"
      },
      "execution_count": 24,
      "outputs": [
        {
          "output_type": "stream",
          "name": "stdout",
          "text": [
            "lendo o número 0\n",
            "lendo o número 1\n",
            "lendo o número 2\n",
            "lendo o número 3\n",
            "lendo o número 4\n",
            "lendo o número 5\n",
            "lendo o número 6\n",
            "lendo o número 7\n",
            "lendo o número 8\n",
            "lendo o número 9\n",
            "lendo o número 10\n",
            "lendo o número 11\n",
            "lendo o número 12\n",
            "lendo o número 13\n",
            "lendo o número 14\n",
            "lendo o número 15\n",
            "lendo o número 16\n"
          ]
        }
      ]
    }
  ]
}